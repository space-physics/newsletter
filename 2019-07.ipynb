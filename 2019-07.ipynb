{
 "cells": [
  {
   "cell_type": "markdown",
   "metadata": {},
   "source": [
    "# PyHC Newsletter: July 2019\n",
    "\n",
    "## Introduction\n",
    "On the July 12th PyHC telecon, Aaron Roberts suggested we initiate a newsletter for PyHC, that could be distributed or linked via community mailing lists including CEDAR and AGU-SPA. \n",
    "We thought we'd start with a Jupyter Notebook, as a common feature of the PyHC Newsletter could be plots and examples from PyHC packages. \n",
    "This will help introduce a wide audience to PyHC packages, as well as motivate the PyHC authors to create and document interesting plots.\n",
    "\n",
    "## Package spotlight\n",
    "This month's spotlight includes a geomagnetic indices retriever and plotter, that covers a time span from 1930 to 2035 and computes smoothed indices for Ap, Kp and f10.7.\n",
    "These indices are distributed via various resources, and this package downloads, caches and presents the indices as \n",
    "[Pandas DataFrame](https://pandas.pydata.org/pandas-docs/stable/getting_started/dsintro.html#dataframe).\n",
    "\n",
    "The \n",
    "[Geomag-Indices package](https://github.com/space-physics/geomagindices) may be installed by:\n",
    "```sh\n",
    "pip install geomagindices\n",
    "```\n",
    "and used as follows [![Binder](https://mybinder.org/badge_logo.svg)](https://mybinder.org/v2/gh/space-physics/newsletter/master?filepath=https%3A%2F%2Fgithub.com%2Fspace-physics%2Fnewsletter%2Fblob%2Fmaster%2F2019-07.ipynb)"
   ]
  },
  {
   "cell_type": "code",
   "execution_count": null,
   "metadata": {
    "scrolled": false
   },
   "outputs": [],
   "source": [
    "import geomagindices as gi\n",
    "\n",
    "date = '2015-01-28 12:30'\n",
    "inds = gi.get_indices(date)"
   ]
  },
  {
   "cell_type": "code",
   "execution_count": null,
   "metadata": {},
   "outputs": [],
   "source": [
    "print(inds)"
   ]
  },
  {
   "cell_type": "markdown",
   "metadata": {},
   "source": [
    "[Ranges of dates](https://pandas.pydata.org/pandas-docs/stable/user_guide/timeseries.html#timeseries-offset-aliases) may be specified"
   ]
  },
  {
   "cell_type": "code",
   "execution_count": null,
   "metadata": {},
   "outputs": [],
   "source": [
    "import pandas\n",
    "dates = pandas.date_range('2015-01-25 12:30', '2015-03-02', freq='H')\n",
    "inds = gi.get_indices(dates)"
   ]
  },
  {
   "cell_type": "code",
   "execution_count": null,
   "metadata": {},
   "outputs": [],
   "source": [
    "%matplotlib inline\n",
    "inds.plot()"
   ]
  },
  {
   "cell_type": "markdown",
   "metadata": {},
   "source": [
    "### Package ecosystem\n",
    "GeomagIndices uses the `[options.data_files]` section of \n",
    "[setup.cfg](https://github.com/space-physics/geomagindices/blob/master/setup.cfg) that requires \n",
    "[setuptools >= 40.5](https://setuptools.readthedocs.io/en/latest/history.html#v40-5-0).\n",
    "We chose to use the more generic pyproject.toml to specify this requirement, although it could also have been specified in the \n",
    "[setup_requires field of setup.cfg/setup.py](https://setuptools.readthedocs.io/en/latest/setuptools.html#new-and-changed-setup-keywords).  \n",
    "Either of these methods enact a temporary install of the requested prerequisites, ensuring that a sufficiently new version of setuptools is installed before attempting the final install of geomagindices.\n",
    "\n",
    "In general, it is better from the security, stability and long-term reproducability aspects to specify package metadata as declarative (pyproject.toml, setup.cfg) whenever possible instead of imperative (setup.py).\n",
    "In our experience, most packages including in PyHC could switch at least some of their metadata to setup.cfg and pyproject.toml to help meet these goals.\n",
    "Alternative non-setuptools build backends such as \n",
    "[Poetry](https://poetry.eustace.io/) \n",
    "and \n",
    "[Flit](https://flit.readthedocs.io)\n",
    "discard much of the distutils/setuptools cruft left over from the early era of scientific Python and help avoid the arbitrary install code in setup.py.\n",
    "In our experience, setup.py is a frequent source of problems in PyHC packages, especially for cross-platform / OS-agnostic or non-CPython interpreters."
   ]
  },
  {
   "cell_type": "markdown",
   "metadata": {},
   "source": [
    "## Workshop / Conference updates\n",
    "The CEDAR 2019 workshop in Santa Fe, New Mexico was held in June. Over 100 scientists of all career stages including students attended the four software-oriented sessions:\n",
    "\n",
    "* [Heliophysics Hackathon](https://cedarweb.vsp.ucar.edu/wiki/index.php/2019_Workshop:Hackathon) (4+ hours)\n",
    "* [Software Engineering for Heliophyiscs](https://cedarweb.vsp.ucar.edu/wiki/index.php/2019_Workshop:Software_Engineering_for_Heliophysics)\n",
    "* [Python for Space Science](https://cedarweb.vsp.ucar.edu/wiki/index.php/2019_Workshop:Python_for_Space_Science)\n",
    "* [InGeo Python-Docker Resen](https://cedarweb.vsp.ucar.edu/wiki/index.php/InGeOWorkshop_2019)\n",
    "\n",
    "Each of these sessions had 30+ people in attendance and included at least some hands-on information that was usable the same day, if not in the session.\n",
    "A key question was how to make the person-to-person networking more sustainable between workshops, perhaps the perennial question of any conference.\n",
    "\n",
    "The GEM workshop ran the week after CEDAR in Santa Fe and at least one session there was Python-oriented.\n",
    "\n",
    "August 2019 brings the \n",
    "[SHINE conference](https://shinecon.org/CurrentMeeting.php)\n",
    "and we look forward to hearing the results of Nick Murphy's PyHC session.\n"
   ]
  },
  {
   "cell_type": "code",
   "execution_count": null,
   "metadata": {},
   "outputs": [],
   "source": []
  }
 ],
 "metadata": {
  "kernelspec": {
   "display_name": "Python 3",
   "language": "python",
   "name": "python3"
  },
  "language_info": {
   "codemirror_mode": {
    "name": "ipython",
    "version": 3
   },
   "file_extension": ".py",
   "mimetype": "text/x-python",
   "name": "python",
   "nbconvert_exporter": "python",
   "pygments_lexer": "ipython3",
   "version": "3.7.3"
  }
 },
 "nbformat": 4,
 "nbformat_minor": 2
}
